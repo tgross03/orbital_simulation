{
 "cells": [
  {
   "cell_type": "code",
   "execution_count": 1,
   "id": "08fd84a3-1a81-4054-9c3a-f18c2860c253",
   "metadata": {},
   "outputs": [],
   "source": [
    "from orbital_simulation import Rigidbody, Simulation\n",
    "from astropy.constants import R_earth\n",
    "\n",
    "from itertools import combinations\n",
    "\n",
    "import numpy as np\n",
    "from catppuccin.palette import PALETTE\n",
    "\n",
    "import matplotlib as mpl"
   ]
  },
  {
   "cell_type": "markdown",
   "id": "4de63039-0690-451a-970c-1ebb3198edc9",
   "metadata": {},
   "source": [
    "In this Simulation, we will try to perform a simple Hohmann transfer\n",
    "to send a spacecraft to the orbit of another spacecraft.\n",
    "\n",
    "The necessary maneuver can be calculated and performed analytically, since the\n",
    "spacecrafts do not attract eachother, but instead this is a trial and error solution."
   ]
  },
  {
   "cell_type": "code",
   "execution_count": 2,
   "id": "90a049eb-9c2c-4213-b784-b63367b17c55",
   "metadata": {},
   "outputs": [],
   "source": [
    "sim = Simulation(dt=1)\n",
    "\n",
    "# Load the Earth from config\n",
    "earth = Rigidbody.from_name(\"earth\")\n",
    "\n",
    "# Target Rigidbody in geostationary orbit\n",
    "target = Rigidbody(\n",
    "    name=\"Target\",\n",
    "    # important: since the earth is not stationary,\n",
    "    # we have to add our positions and velocities to the earth's\n",
    "    position=earth.get_current_position() + np.array([R_earth.value + 35_786e3, 0, 0]),\n",
    "    velocity=earth.get_current_velocity() + np.array([0, 3.0746e3, 0]),\n",
    "    mass=440e3,\n",
    "    radius=10,\n",
    "    body_color=PALETTE.latte.colors.green.hex,\n",
    "    trail_color=PALETTE.frappe.colors.green.hex,\n",
    "    intrinsic_acceleration=np.zeros(3),\n",
    "    marker=\"x\",\n",
    "    fix_marker_size=True,\n",
    ")\n",
    "\n",
    "# Spacecraft we try to get to the same orbit as our target\n",
    "craft = Rigidbody(\n",
    "    name=\"Spacecraft\",\n",
    "    # important: since the earth is not stationary,\n",
    "    # we have to add our positions and velocities to the earth's\n",
    "    position=earth.get_current_position() + np.array([-(R_earth.value + 400e3), 0, 0]),\n",
    "    velocity=earth.get_current_velocity() + np.array([0, -7.6e3, 0]),\n",
    "    mass=440e3,\n",
    "    radius=10,\n",
    "    body_color=PALETTE.latte.colors.teal.hex,\n",
    "    trail_color=PALETTE.frappe.colors.teal.hex,\n",
    "    intrinsic_acceleration=np.zeros(3),\n",
    "    marker=\"x\",\n",
    "    fix_marker_size=True,\n",
    ")\n",
    "\n",
    "spacecrafts = [target, craft]\n",
    "\n",
    "# This is a bit overkill for two spacecrafts, but case of more than\n",
    "# two bodies, which should not interact with eachother, this combinations\n",
    "# ansatz is pretty handy.\n",
    "for craft1, craft2 in combinations(spacecrafts, 2):\n",
    "    craft1.exclude_body(craft2)\n",
    "\n",
    "# add the earth to the simulation\n",
    "sim.add_rigidbody(earth)\n",
    "\n",
    "# add all spacecrafts to the simulation\n",
    "for craft in spacecrafts:\n",
    "    sim.add_rigidbody(craft)"
   ]
  },
  {
   "cell_type": "code",
   "execution_count": null,
   "id": "33e6a626-9fbb-4768-8932-4b80dae4ec0c",
   "metadata": {},
   "outputs": [
    {
     "data": {
      "application/vnd.jupyter.widget-view+json": {
       "model_id": "1ece019ea01c4ffea7c6acc926138177",
       "version_major": 2,
       "version_minor": 0
      },
      "text/plain": [
       "Simulating steps:   0%|          | 0/6991 [00:00<?, ?it/s]"
      ]
     },
     "metadata": {},
     "output_type": "display_data"
    },
    {
     "data": {
      "application/vnd.jupyter.widget-view+json": {
       "model_id": "0d9089a61f6549a8938904aeba5982f5",
       "version_major": 2,
       "version_minor": 0
      },
      "text/plain": [
       "Simulating steps:   0%|          | 0/61 [00:00<?, ?it/s]"
      ]
     },
     "metadata": {},
     "output_type": "display_data"
    },
    {
     "data": {
      "application/vnd.jupyter.widget-view+json": {
       "model_id": "62906efe218e403a9d2a5e5823781545",
       "version_major": 2,
       "version_minor": 0
      },
      "text/plain": [
       "Simulating steps:   0%|          | 0/19021 [00:00<?, ?it/s]"
      ]
     },
     "metadata": {},
     "output_type": "display_data"
    },
    {
     "data": {
      "application/vnd.jupyter.widget-view+json": {
       "model_id": "3ea0f69ce8ad44e1b13e29724eace9cd",
       "version_major": 2,
       "version_minor": 0
      },
      "text/plain": [
       "Simulating steps:   0%|          | 0/51 [00:00<?, ?it/s]"
      ]
     },
     "metadata": {},
     "output_type": "display_data"
    },
    {
     "data": {
      "application/vnd.jupyter.widget-view+json": {
       "model_id": "6b676205883d4f7cb5e40f66767e9ddb",
       "version_major": 2,
       "version_minor": 0
      },
      "text/plain": [
       "Simulating steps:   0%|          | 0/72001 [00:00<?, ?it/s]"
      ]
     },
     "metadata": {},
     "output_type": "display_data"
    }
   ],
   "source": [
    "sim.reset()  # reset in case you rerun this cell\n",
    "\n",
    "# let the craft orbit a little more than once\n",
    "sim.run(116.5 * 60)\n",
    "\n",
    "# accelerate to raise the apoapsis to the target height\n",
    "craft.accelerate(acceleration=39.66, mode=\"prograde\", relative_to=earth)\n",
    "\n",
    "# accelerate for 60 seconds\n",
    "sim.run(60)\n",
    "\n",
    "# stop accelerating\n",
    "craft.stop_acceleration()\n",
    "\n",
    "# wait until the spacecraft reached its apoapsis\n",
    "sim.run(317 * 60)\n",
    "\n",
    "# calculate the speed we will have to accelerate to, to match the orbits\n",
    "delta_v = (\n",
    "    np.linalg.norm(craft.get_current_velocity() - target.get_current_velocity()) * 0.988\n",
    ")\n",
    "\n",
    "\n",
    "acceleration_time = 50\n",
    "craft.accelerate(\n",
    "    acceleration=delta_v / acceleration_time, mode=\"prograde\", relative_to=earth\n",
    ")\n",
    "\n",
    "# accelerate for the given acceleration time\n",
    "craft.accelerate(acceleration=1.16, mode=\"radial_out\", relative_to=earth)\n",
    "sim.run(acceleration_time)\n",
    "craft.stop_acceleration()\n",
    "\n",
    "# let the simulation run for 20 hours to see the final orbits.\n",
    "sim.run(20 * 3600)"
   ]
  },
  {
   "cell_type": "code",
   "execution_count": null,
   "id": "f54f7021-f7de-4b1b-89ac-6c872ff906e5",
   "metadata": {},
   "outputs": [],
   "source": [
    "# plot the final state.\n",
    "sim.plot_state(\n",
    "    view_param=dict(elev=90, azim=0, roll=0),\n",
    "    center_body=earth,\n",
    "    center_view=True,\n",
    "    zoom_factor=1.0,\n",
    "    zoom_center=None,\n",
    "    aspect_scale=(1, 1, 1),\n",
    "    to_scale=False,\n",
    ")"
   ]
  },
  {
   "cell_type": "code",
   "execution_count": null,
   "id": "ccf5c206-6417-4575-ad80-085af581950e",
   "metadata": {},
   "outputs": [],
   "source": [
    "# save as animation\n",
    "sim.animate(\n",
    "    steps_per_frame=300,\n",
    "    framesep=50,\n",
    "    view_param=dict(elev=90, azim=0, roll=0),\n",
    "    center_body=earth,\n",
    "    center_view=True,\n",
    "    zoom_factor=1.0,\n",
    "    zoom_center=None,\n",
    "    aspect_scale=(1, 1, 1),\n",
    "    unit=\n",
    "    draw_acceleration=True,\n",
    "    save_file=\"hohmann_transfer.mp4\",\n",
    "    plot_velocity=spacecrafts,\n",
    "    legend=\"fig\",\n",
    ")"
   ]
  },
  {
   "cell_type": "code",
   "execution_count": null,
   "id": "0560c059-4321-4837-879d-a6cc6adb8ed5",
   "metadata": {},
   "outputs": [],
   "source": []
  }
 ],
 "metadata": {
  "kernelspec": {
   "display_name": "Python 3 (ipykernel)",
   "language": "python",
   "name": "python3"
  },
  "language_info": {
   "codemirror_mode": {
    "name": "ipython",
    "version": 3
   },
   "file_extension": ".py",
   "mimetype": "text/x-python",
   "name": "python",
   "nbconvert_exporter": "python",
   "pygments_lexer": "ipython3",
   "version": "3.13.3"
  }
 },
 "nbformat": 4,
 "nbformat_minor": 5
}
