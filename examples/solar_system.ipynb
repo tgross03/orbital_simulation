{
 "cells": [
  {
   "cell_type": "code",
   "execution_count": null,
   "id": "9a3b688e-2ccc-48fe-a21a-12456ff30aca",
   "metadata": {},
   "outputs": [],
   "source": [
    "from orbital_simulation import Simulation, Rigidbody\n",
    "\n",
    "# simulate one day per step\n",
    "sim = Simulation(dt=86400)\n",
    "\n",
    "# load all planets\n",
    "sim.load_planets()\n",
    "\n",
    "# simulate for 164 years and 288 days (approx. period of neptune)\n",
    "sim.run(time=86400 * (365 * 164 + 288))\n",
    "\n",
    "fig, ax = sim.animate(\n",
    "    steps_per_frame=180, framesep=30, save_file=\"../plots/solar_system.mp4\"\n",
    ")"
   ]
  }
 ],
 "metadata": {
  "kernelspec": {
   "display_name": "Python 3 (ipykernel)",
   "language": "python",
   "name": "python3"
  },
  "language_info": {
   "codemirror_mode": {
    "name": "ipython",
    "version": 3
   },
   "file_extension": ".py",
   "mimetype": "text/x-python",
   "name": "python",
   "nbconvert_exporter": "python",
   "pygments_lexer": "ipython3",
   "version": "3.13.3"
  }
 },
 "nbformat": 4,
 "nbformat_minor": 5
}
